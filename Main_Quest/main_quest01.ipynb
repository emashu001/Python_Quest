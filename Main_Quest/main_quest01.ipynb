{
  "nbformat": 4,
  "nbformat_minor": 0,
  "metadata": {
    "colab": {
      "provenance": [],
      "authorship_tag": "ABX9TyNs5bkpmJ4mtfGU3u6kKlMK",
      "include_colab_link": true
    },
    "kernelspec": {
      "name": "python3",
      "display_name": "Python 3"
    },
    "language_info": {
      "name": "python"
    }
  },
  "cells": [
    {
      "cell_type": "markdown",
      "metadata": {
        "id": "view-in-github",
        "colab_type": "text"
      },
      "source": [
        "<a href=\"https://colab.research.google.com/github/emashu001/Python_Quest/blob/master/Main_Quest/main_quest01.ipynb\" target=\"_parent\"><img src=\"https://colab.research.google.com/assets/colab-badge.svg\" alt=\"Open In Colab\"/></a>"
      ]
    },
    {
      "cell_type": "code",
      "execution_count": 1,
      "metadata": {
        "id": "Ikz89I5PISl7"
      },
      "outputs": [],
      "source": [
        "import random\n",
        "\n",
        "#Q1.클래스 생성.\n",
        "class Account():\n",
        "  #Q2.클래스로부터 생성된 계좌 객체의 갯수 저장.\n",
        "  acct_nums = 0\n",
        "\n",
        "  def __init__(self, name, depo):\n",
        "    self.money1_num = 0\n",
        "    #Q10.입출금 내역을 저장 할 리스트 추가.\n",
        "    self.depo_h = []\n",
        "    self.widw_h = []\n",
        "\n",
        "    self.name = name\n",
        "    self.depo = depo\n",
        "    self.bank = 'sc은행'\n",
        "    num1 = random.randint(0, 999)\n",
        "    num2 = random.randint(0, 99)\n",
        "    num3 = random.randint(0, 999999)\n",
        "    self.acct = str(num1) + '-' + str(num2) + '-' + str(num3)\n",
        "\n",
        "    #Q2.생성된 계좌 객체의 개수 저장.\n",
        "    Account.acct_nums += 1\n",
        "\n",
        "  #Q3.계좌 개수 출력.\n",
        "  def get_account_num(self):\n",
        "    print(Account.acct_nums)\n",
        "\n",
        "  #Q4.입금 메서드 작성.\n",
        "  def deposit(self, money1):\n",
        "    self.money1 = money1\n",
        "    #Q10.입급내역들 저장.\n",
        "    self.depo_h.append(self.money1)\n",
        "\n",
        "    if self.money1 > 1: # 입금은 최소 1원 이상.\n",
        "      self.depo += self.money1\n",
        "\n",
        "      #Q7.이자 지급하기.\n",
        "      self.money1_num += 1 #Q7.예금한 횟수 자장.\n",
        "      if self.money1_num % 5 == 0:\n",
        "        self.depo = (self.depo * 1.01)\n",
        "\n",
        "      return f'입금액:{self.money1}, 잔액:{self.depo}'\n",
        "\n",
        "  #Q5.출금 메서드 작성.\n",
        "  def withdraw(self, money2):\n",
        "    self.money2 = money2\n",
        "    #Q10.출금내역들 저장.\n",
        "    self.widw_h.append(self.money2)\n",
        "\n",
        "    if self.depo > self.money2:\n",
        "      self.depo -= self.money2\n",
        "      return f'출금액:{self.money2}, 잔액:{self.depo}'\n",
        "    else:\n",
        "      print('잔고가 부족합니다.')\n",
        "\n",
        "      \n",
        "\n",
        "  #Q6.계좌정보 출력 메서드 작성.\n",
        "  def display_info(self):\n",
        "    info = [self.bank, self.name, self.acct, self.depo]\n",
        "    print(f'은행이름: {info[0]}')\n",
        "    print(f'예금주: {info[1]}')\n",
        "    print(f'계좌번호: {info[2]}')\n",
        "    print(f'잔고: {self.depo}')\n",
        "    \n",
        "    # format함수로 세자리마다 쉼표 출력가능.\n",
        "    # 검색해서 알아낸 것이라 적용은 안했습니다.\n",
        "    #쉼표적용 = '{:,}'.format(self.depo)\n",
        "\n",
        "  #Q10.입금내역 메서드.\n",
        "  def deposit_history(self):\n",
        "    print(f'잔액: {self.depo}\\n' + '입금거래내역은 다음과 같습니다.')\n",
        "    print(self.depo_h)\n",
        "\n",
        "  #Q10.출금내역 메서드.\n",
        "  def withdraw_history(self):\n",
        "    print(f'잔액: {self.depo}\\n' + '출금거래내역은 다음과 같습니다.')\n",
        "    print(self.widw_h)\n"
      ]
    },
    {
      "cell_type": "code",
      "source": [
        "#Q1.확인.\n",
        "myAcct = Account('백기웅', 100)\n",
        "print(Account.acct_nums)\n",
        "youAcct = Account('백서하',1000)\n",
        "print(Account.acct_nums)\n",
        "\n",
        "print(myAcct.name,  myAcct.depo, myAcct.bank ,myAcct.acct)\n",
        "print(youAcct.name, youAcct.depo, youAcct.bank ,youAcct.acct)"
      ],
      "metadata": {
        "colab": {
          "base_uri": "https://localhost:8080/"
        },
        "id": "Rba-ABOsXYNd",
        "outputId": "053ff119-6e1f-4d06-fdb6-9642edd404f2"
      },
      "execution_count": 2,
      "outputs": [
        {
          "output_type": "stream",
          "name": "stdout",
          "text": [
            "1\n",
            "2\n",
            "백기웅 100 sc은행 631-79-646917\n",
            "백서하 1000 sc은행 203-84-442861\n"
          ]
        }
      ]
    },
    {
      "cell_type": "code",
      "source": [
        "#Q2Q3.생성된 계좌 개수 출력.\n",
        "myAcct.get_account_num()"
      ],
      "metadata": {
        "colab": {
          "base_uri": "https://localhost:8080/"
        },
        "id": "ezu3Mg8NOMI0",
        "outputId": "f3388bd8-4e6b-4cf5-ade0-62858ac1ea3d"
      },
      "execution_count": 3,
      "outputs": [
        {
          "output_type": "stream",
          "name": "stdout",
          "text": [
            "2\n"
          ]
        }
      ]
    },
    {
      "cell_type": "code",
      "source": [
        "#Q4.확인.\n",
        "print(myAcct.deposit(100))\n",
        "print(youAcct.deposit(2000))"
      ],
      "metadata": {
        "colab": {
          "base_uri": "https://localhost:8080/"
        },
        "id": "bABGcXtCairt",
        "outputId": "c841432d-de8c-41b2-a880-e0a5f776a862"
      },
      "execution_count": 4,
      "outputs": [
        {
          "output_type": "stream",
          "name": "stdout",
          "text": [
            "입금액:100, 잔액:200\n",
            "입금액:2000, 잔액:3000\n"
          ]
        }
      ]
    },
    {
      "cell_type": "code",
      "source": [
        "#Q5.확인.\n",
        "myAcct.withdraw(50)"
      ],
      "metadata": {
        "colab": {
          "base_uri": "https://localhost:8080/",
          "height": 36
        },
        "id": "MLRoOxYJeUVv",
        "outputId": "d26792d8-c8c3-4628-c9e7-1ac6462d9e09"
      },
      "execution_count": 5,
      "outputs": [
        {
          "output_type": "execute_result",
          "data": {
            "text/plain": [
              "'출금액:50, 잔액:150'"
            ],
            "application/vnd.google.colaboratory.intrinsic+json": {
              "type": "string"
            }
          },
          "metadata": {},
          "execution_count": 5
        }
      ]
    },
    {
      "cell_type": "code",
      "source": [
        "#Q6.확인.\n",
        "myAcct.display_info()\n",
        "youAcct.display_info()"
      ],
      "metadata": {
        "colab": {
          "base_uri": "https://localhost:8080/"
        },
        "id": "bPMWQs8BhHFo",
        "outputId": "14be1811-90e7-49e3-95db-8b778ab22afd"
      },
      "execution_count": 6,
      "outputs": [
        {
          "output_type": "stream",
          "name": "stdout",
          "text": [
            "은행이름: sc은행\n",
            "예금주: 백기웅\n",
            "계좌번호: 631-79-646917\n",
            "잔고: 150\n",
            "은행이름: sc은행\n",
            "예금주: 백서하\n",
            "계좌번호: 203-84-442861\n",
            "잔고: 3000\n"
          ]
        }
      ]
    },
    {
      "cell_type": "code",
      "source": [
        "#Q7.확인.\n",
        "print(myAcct.deposit(100))\n",
        "print(myAcct.deposit(100))\n",
        "print(myAcct.deposit(100))\n",
        "print(myAcct.deposit(100))\n",
        "print(myAcct.deposit(100))\n",
        "\n",
        "myAcct.display_info()"
      ],
      "metadata": {
        "colab": {
          "base_uri": "https://localhost:8080/"
        },
        "id": "wnMN2PBdpcvq",
        "outputId": "27cbf34a-6351-4e10-f82e-d6d0b4bb14a4"
      },
      "execution_count": 7,
      "outputs": [
        {
          "output_type": "stream",
          "name": "stdout",
          "text": [
            "입금액:100, 잔액:250\n",
            "입금액:100, 잔액:350\n",
            "입금액:100, 잔액:450\n",
            "입금액:100, 잔액:555.5\n",
            "입금액:100, 잔액:655.5\n",
            "은행이름: sc은행\n",
            "예금주: 백기웅\n",
            "계좌번호: 631-79-646917\n",
            "잔고: 655.5\n"
          ]
        }
      ]
    },
    {
      "cell_type": "code",
      "source": [
        "#Q8.여러 객체 생성.\n",
        "acct_list =[]\n",
        "a = Account('바이든', 100000)\n",
        "b = Account('시진핑', 150000)\n",
        "c = Account('윤석열', 2000000)\n",
        "acct_list.append(a)\n",
        "acct_list.append(b)\n",
        "acct_list.append(c)\n",
        "print(acct_list)"
      ],
      "metadata": {
        "colab": {
          "base_uri": "https://localhost:8080/"
        },
        "id": "cLcymszjrrBb",
        "outputId": "39b6386e-8422-4e9b-d854-90d326e15be3"
      },
      "execution_count": 8,
      "outputs": [
        {
          "output_type": "stream",
          "name": "stdout",
          "text": [
            "[<__main__.Account object at 0x7fb2428d2c50>, <__main__.Account object at 0x7fb2428d3790>, <__main__.Account object at 0x7fb2428d3e80>]\n"
          ]
        }
      ]
    },
    {
      "cell_type": "code",
      "source": [
        "#08.확인.\n",
        "a.display_info()\n",
        "b.display_info()\n",
        "c.display_info()"
      ],
      "metadata": {
        "colab": {
          "base_uri": "https://localhost:8080/"
        },
        "id": "q_I8ceVd5hQE",
        "outputId": "17d7bac7-839d-4b44-8b80-71e913de7bc6"
      },
      "execution_count": 9,
      "outputs": [
        {
          "output_type": "stream",
          "name": "stdout",
          "text": [
            "은행이름: sc은행\n",
            "예금주: 바이든\n",
            "계좌번호: 714-52-963450\n",
            "잔고: 100000\n",
            "은행이름: sc은행\n",
            "예금주: 시진핑\n",
            "계좌번호: 842-62-36765\n",
            "잔고: 150000\n",
            "은행이름: sc은행\n",
            "예금주: 윤석열\n",
            "계좌번호: 961-36-578706\n",
            "잔고: 2000000\n"
          ]
        }
      ]
    },
    {
      "cell_type": "code",
      "source": [
        "#Q9.객체 순회.\n",
        "for i in acct_list:\n",
        "  if i.depo > 1000000:\n",
        "    i.display_info()\n"
      ],
      "metadata": {
        "colab": {
          "base_uri": "https://localhost:8080/"
        },
        "id": "Uq1xens35yff",
        "outputId": "4e1e5559-f188-41e0-ccdb-cb515f72aefc"
      },
      "execution_count": 10,
      "outputs": [
        {
          "output_type": "stream",
          "name": "stdout",
          "text": [
            "은행이름: sc은행\n",
            "예금주: 윤석열\n",
            "계좌번호: 961-36-578706\n",
            "잔고: 2000000\n"
          ]
        }
      ]
    },
    {
      "cell_type": "code",
      "source": [
        "#Q10.입금내역 출력.\n",
        "myAcct.deposit_history()"
      ],
      "metadata": {
        "colab": {
          "base_uri": "https://localhost:8080/"
        },
        "id": "9x3a_FUy5ql_",
        "outputId": "6f620aa2-2168-4817-b3b1-a7dae4b0ac30"
      },
      "execution_count": 11,
      "outputs": [
        {
          "output_type": "stream",
          "name": "stdout",
          "text": [
            "잔액: 655.5\n",
            "입금거래내역은 다음과 같습니다.\n",
            "[100, 100, 100, 100, 100, 100]\n"
          ]
        }
      ]
    },
    {
      "cell_type": "code",
      "source": [
        "#Q10.출금내역 출력.\n",
        "myAcct.withdraw_history()"
      ],
      "metadata": {
        "colab": {
          "base_uri": "https://localhost:8080/"
        },
        "id": "5ISm7OCE5dyn",
        "outputId": "0fd7cd5f-54e1-4a82-f36a-a4b68f744175"
      },
      "execution_count": 12,
      "outputs": [
        {
          "output_type": "stream",
          "name": "stdout",
          "text": [
            "잔액: 655.5\n",
            "출금거래내역은 다음과 같습니다.\n",
            "[50]\n"
          ]
        }
      ]
    }
  ]
}