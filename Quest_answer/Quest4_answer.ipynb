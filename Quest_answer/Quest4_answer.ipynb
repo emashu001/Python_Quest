{
  "nbformat": 4,
  "nbformat_minor": 0,
  "metadata": {
    "colab": {
      "provenance": [],
      "authorship_tag": "ABX9TyMN+AgX44VZ2ZyySvG9NsSd",
      "include_colab_link": true
    },
    "kernelspec": {
      "name": "python3",
      "display_name": "Python 3"
    },
    "language_info": {
      "name": "python"
    }
  },
  "cells": [
    {
      "cell_type": "markdown",
      "metadata": {
        "id": "view-in-github",
        "colab_type": "text"
      },
      "source": [
        "<a href=\"https://colab.research.google.com/github/emashu001/Python_Quest/blob/master/Quest_answer/Quest4_answer.ipynb\" target=\"_parent\"><img src=\"https://colab.research.google.com/assets/colab-badge.svg\" alt=\"Open In Colab\"/></a>"
      ]
    },
    {
      "cell_type": "code",
      "execution_count": 114,
      "metadata": {
        "id": "eKDuPCoVsAxP"
      },
      "outputs": [],
      "source": [
        "class Fish:\n",
        "  def __init__(self, name, speed):\n",
        "    self.name = name\n",
        "    self.speed = speed\n",
        "    print(self.name, self.speed)\n",
        "\n",
        "  def __repr__(self):\n",
        "    return f\"\"\n",
        "\n",
        "  def movement(self):\n",
        "    print(f\"{self.name} is swimming at {self.speed} m/s\")\n",
        "\n",
        "  def show_fish_movement_iterator(mylist):\n",
        "    if iter(mylist):   # iterable 확인.\n",
        "      fish_iter = iter(mylist)\n",
        "      print(\"Using iterator:\")\n",
        "      for fish in mylist:\n",
        "        # print(f\"{fish.name} is swimming at {fish.speed} m/s\")\n",
        "        fish_iter.__next__().movement()\n",
        "\n",
        "  def show_fish_movement_comprehension(mylist):\n",
        "    print(\"Using Comprehension:\")\n",
        "    [print(f\"{fish.name} is swimming at {fish.speed} m/s\") for fish in mylist]\n"
      ]
    },
    {
      "cell_type": "code",
      "source": [
        "fish_list = [\n",
        "    Fish(\"Nemo\", 3),\n",
        "    Fish(\"Dory\", 5),\n",
        "    Fish(\"Marlin\", 7),\n",
        "    Fish(\"Bubbles\", 2),\n",
        "    Fish(\"Gill\", 4)\n",
        "]"
      ],
      "metadata": {
        "colab": {
          "base_uri": "https://localhost:8080/"
        },
        "id": "qEJKy64xsHvy",
        "outputId": "0a46d179-79ee-42b3-c764-601856388439"
      },
      "execution_count": 119,
      "outputs": [
        {
          "output_type": "stream",
          "name": "stdout",
          "text": [
            "Nemo 3\n",
            "Dory 5\n",
            "Marlin 7\n",
            "Bubbles 2\n",
            "Gill 4\n"
          ]
        }
      ]
    },
    {
      "cell_type": "code",
      "source": [
        "Fish.show_fish_movement_iterator(fish_list)"
      ],
      "metadata": {
        "colab": {
          "base_uri": "https://localhost:8080/"
        },
        "id": "ENwwQL8DV7tn",
        "outputId": "30ac10e8-26ac-433c-c180-f26668bdc2c2"
      },
      "execution_count": 120,
      "outputs": [
        {
          "output_type": "stream",
          "name": "stdout",
          "text": [
            "Using iterator:\n",
            "Nemo is swimming at 3 m/s\n",
            "Dory is swimming at 5 m/s\n",
            "Marlin is swimming at 7 m/s\n",
            "Bubbles is swimming at 2 m/s\n",
            "Gill is swimming at 4 m/s\n"
          ]
        }
      ]
    },
    {
      "cell_type": "code",
      "source": [
        "Fish.show_fish_movement_comprehension(fish_list)"
      ],
      "metadata": {
        "colab": {
          "base_uri": "https://localhost:8080/"
        },
        "id": "v14w8od1WDR4",
        "outputId": "b641c3fd-4b66-49f2-d453-164d2af64fe1"
      },
      "execution_count": 121,
      "outputs": [
        {
          "output_type": "stream",
          "name": "stdout",
          "text": [
            "Using Comprehension:\n",
            "Nemo is swimming at 3 m/s\n",
            "Dory is swimming at 5 m/s\n",
            "Marlin is swimming at 7 m/s\n",
            "Bubbles is swimming at 2 m/s\n",
            "Gill is swimming at 4 m/s\n"
          ]
        }
      ]
    },
    {
      "cell_type": "markdown",
      "source": [
        "아래는 clss 예제."
      ],
      "metadata": {
        "id": "69cVCoRwYSYu"
      }
    },
    {
      "cell_type": "code",
      "source": [
        "class Person:\n",
        "    def __init__(self, name, age):\n",
        "        self.name = name\n",
        "        self.age = age\n",
        "        \n",
        "    def introduce(self):\n",
        "        print(f\"안녕하세요, 제 이름은 {self.name}이고, {self.age}살입니다.\")\n",
        "\n",
        "person1 = Person(\"Alice\", 25)\n",
        "person2 = Person(\"Bob\", 30)\n",
        "\n",
        "person1.introduce()  # 출력: 안녕하세요, 제 이름은 Alice이고, 25살입니다.\n",
        "person2.introduce()  # 출력: 안녕하세요, 제 이름은 Bob이고, 30살입니다.\n"
      ],
      "metadata": {
        "colab": {
          "base_uri": "https://localhost:8080/"
        },
        "id": "lFevO-M6sb7I",
        "outputId": "f34665e6-bb6c-4a02-d8e8-3e41f598b016"
      },
      "execution_count": 9,
      "outputs": [
        {
          "output_type": "stream",
          "name": "stdout",
          "text": [
            "안녕하세요, 제 이름은 Alice이고, 25살입니다.\n",
            "안녕하세요, 제 이름은 Bob이고, 30살입니다.\n"
          ]
        }
      ]
    }
  ]
}