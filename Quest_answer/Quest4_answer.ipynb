{
  "nbformat": 4,
  "nbformat_minor": 0,
  "metadata": {
    "colab": {
      "provenance": [],
      "authorship_tag": "ABX9TyMP0Q89VY5v01YHhNCn96G3",
      "include_colab_link": true
    },
    "kernelspec": {
      "name": "python3",
      "display_name": "Python 3"
    },
    "language_info": {
      "name": "python"
    }
  },
  "cells": [
    {
      "cell_type": "markdown",
      "metadata": {
        "id": "view-in-github",
        "colab_type": "text"
      },
      "source": [
        "<a href=\"https://colab.research.google.com/github/emashu001/Python_Quest/blob/master/Quest_answer/Quest4_answer.ipynb\" target=\"_parent\"><img src=\"https://colab.research.google.com/assets/colab-badge.svg\" alt=\"Open In Colab\"/></a>"
      ]
    },
    {
      "cell_type": "code",
      "execution_count": 29,
      "metadata": {
        "id": "eKDuPCoVsAxP"
      },
      "outputs": [],
      "source": [
        "class Fish:\n",
        "  def __init__(self, name, speed):\n",
        "    self.name = name\n",
        "    self.speed = speed\n",
        "    print(self.name, self.speed)\n",
        "\n",
        "  def __repr__(self):\n",
        "    return f\"{self.name} is swimming at {self.speed} m/s\"\n",
        "\n",
        "  def movement(self):\n",
        "    print(f\"{self.name} is swimming at {self.speed} m/s\")\n",
        "\n",
        "  def show_fish_movement_iterator(mylist):\n",
        "    if iter(mylist):   # iterable 확인.\n",
        "      fish_iter = iter(mylist)\n",
        "      print(\"Using iterator:\")\n",
        "      for fish in mylist:\n",
        "        # print(f\"{fish.name} is swimming at {fish.speed} m/s\")\n",
        "        fish_iter.__next__().movement()\n",
        "\n",
        "  def show_fish_movement_comprehension(mylist):\n",
        "    print(\"Using Comprehension:\")\n",
        "    [print(f\"{fish.name} is swimming at {fish.speed} m/s\") for fish in mylist]\n",
        "\n",
        "  def show_fish_movement_generator(mylist):\n",
        "    print(\"Using generator):\")\n",
        "    yield from (f\"{fish.name} is swimming at {fish.speed} m/s\" for fish in mylist)\n"
      ]
    },
    {
      "cell_type": "code",
      "source": [
        "fish_list = [\n",
        "    Fish(\"Nemo\", 3),\n",
        "    Fish(\"Dory\", 5),\n",
        "    Fish(\"Marlin\", 7),\n",
        "    Fish(\"Bubbles\", 2),\n",
        "    Fish(\"Gill\", 4)\n",
        "]"
      ],
      "metadata": {
        "colab": {
          "base_uri": "https://localhost:8080/"
        },
        "id": "qEJKy64xsHvy",
        "outputId": "5fcf48e5-21e1-43da-c3bc-94a93f58622a"
      },
      "execution_count": 30,
      "outputs": [
        {
          "output_type": "stream",
          "name": "stdout",
          "text": [
            "Nemo 3\n",
            "Dory 5\n",
            "Marlin 7\n",
            "Bubbles 2\n",
            "Gill 4\n"
          ]
        }
      ]
    },
    {
      "cell_type": "code",
      "source": [
        "Fish.show_fish_movement_iterator(fish_list)"
      ],
      "metadata": {
        "colab": {
          "base_uri": "https://localhost:8080/"
        },
        "id": "ENwwQL8DV7tn",
        "outputId": "e883f874-4e1e-4cec-c370-82beedf07aba"
      },
      "execution_count": 31,
      "outputs": [
        {
          "output_type": "stream",
          "name": "stdout",
          "text": [
            "Using iterator:\n",
            "Nemo is swimming at 3 m/s\n",
            "Dory is swimming at 5 m/s\n",
            "Marlin is swimming at 7 m/s\n",
            "Bubbles is swimming at 2 m/s\n",
            "Gill is swimming at 4 m/s\n"
          ]
        }
      ]
    },
    {
      "cell_type": "code",
      "source": [
        "Fish.show_fish_movement_comprehension(fish_list)"
      ],
      "metadata": {
        "colab": {
          "base_uri": "https://localhost:8080/"
        },
        "id": "v14w8od1WDR4",
        "outputId": "1e6257fc-c750-4084-bc42-623bec129ba1"
      },
      "execution_count": 32,
      "outputs": [
        {
          "output_type": "stream",
          "name": "stdout",
          "text": [
            "Using Comprehension:\n",
            "Nemo is swimming at 3 m/s\n",
            "Dory is swimming at 5 m/s\n",
            "Marlin is swimming at 7 m/s\n",
            "Bubbles is swimming at 2 m/s\n",
            "Gill is swimming at 4 m/s\n"
          ]
        }
      ]
    },
    {
      "cell_type": "code",
      "source": [
        "Fish.show_fish_movement_generator(fish_list)"
      ],
      "metadata": {
        "colab": {
          "base_uri": "https://localhost:8080/"
        },
        "id": "NKU2LjPJNGh8",
        "outputId": "100a8987-7e79-4840-8ac1-19ec2ee5c4d2"
      },
      "execution_count": 33,
      "outputs": [
        {
          "output_type": "execute_result",
          "data": {
            "text/plain": [
              "<generator object Fish.show_fish_movement_generator at 0x7f010a1a86d0>"
            ]
          },
          "metadata": {},
          "execution_count": 33
        }
      ]
    },
    {
      "cell_type": "code",
      "source": [
        "fish_generator = Fish.show_fish_movement_generator(fish_list)\n",
        "for fish_info in fish_generator:\n",
        "    print(fish_info)"
      ],
      "metadata": {
        "colab": {
          "base_uri": "https://localhost:8080/"
        },
        "id": "LQL-2em6D6P6",
        "outputId": "2e11495e-71d7-4d80-d09f-d193fcc7f19c"
      },
      "execution_count": 34,
      "outputs": [
        {
          "output_type": "stream",
          "name": "stdout",
          "text": [
            "Using generator):\n",
            "Nemo is swimming at 3 m/s\n",
            "Dory is swimming at 5 m/s\n",
            "Marlin is swimming at 7 m/s\n",
            "Bubbles is swimming at 2 m/s\n",
            "Gill is swimming at 4 m/s\n"
          ]
        }
      ]
    },
    {
      "cell_type": "markdown",
      "source": [
        "아래는 class 예제."
      ],
      "metadata": {
        "id": "69cVCoRwYSYu"
      }
    },
    {
      "cell_type": "code",
      "source": [
        "class Fish:\n",
        "    def __init__(self, name, age):\n",
        "        self.name = name\n",
        "        self.age = age\n",
        "        print(self.name, self.age)\n",
        "\n",
        "    def __str__(self):\n",
        "        return f\"Fish(name='{self.name}', age={self.age})\"\n",
        "\n",
        "    def sss(self):\n",
        "        return f\"sss(name='{self.name}', age={self.age})\"\n",
        "\n",
        "\n",
        "fish_list = [\n",
        "    Fish(\"Nemo\", 3),\n",
        "    Fish(\"Dory\", 5),\n",
        "    Fish(\"Marlin\", 7),\n",
        "    Fish(\"Bubbles\", 2),\n",
        "    Fish(\"Gill\", 4)\n",
        "]"
      ],
      "metadata": {
        "colab": {
          "base_uri": "https://localhost:8080/"
        },
        "id": "GJdQn-9Xhx8b",
        "outputId": "d1af01fa-5dc9-4d82-e2b4-ba6830ef9b5f"
      },
      "execution_count": null,
      "outputs": [
        {
          "output_type": "stream",
          "name": "stdout",
          "text": [
            "Nemo 3\n",
            "Dory 5\n",
            "Marlin 7\n",
            "Bubbles 2\n",
            "Gill 4\n"
          ]
        }
      ]
    },
    {
      "cell_type": "code",
      "source": [
        "for fish in fish_list:\n",
        "  print(fish.sss())"
      ],
      "metadata": {
        "colab": {
          "base_uri": "https://localhost:8080/"
        },
        "id": "T9TaWIXtiAUz",
        "outputId": "5eeb3e80-a65f-436d-8a01-d4ef6c6370f1"
      },
      "execution_count": null,
      "outputs": [
        {
          "output_type": "stream",
          "name": "stdout",
          "text": [
            "sss(name='Nemo', age=3)\n",
            "sss(name='Dory', age=5)\n",
            "sss(name='Marlin', age=7)\n",
            "sss(name='Bubbles', age=2)\n",
            "sss(name='Gill', age=4)\n"
          ]
        }
      ]
    }
  ]
}