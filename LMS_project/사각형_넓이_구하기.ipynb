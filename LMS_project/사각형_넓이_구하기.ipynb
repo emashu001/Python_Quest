{
  "nbformat": 4,
  "nbformat_minor": 0,
  "metadata": {
    "colab": {
      "provenance": [],
      "authorship_tag": "ABX9TyOXkwgoRWZX3ZnSBPoS6vc3",
      "include_colab_link": true
    },
    "kernelspec": {
      "name": "python3",
      "display_name": "Python 3"
    },
    "language_info": {
      "name": "python"
    }
  },
  "cells": [
    {
      "cell_type": "markdown",
      "metadata": {
        "id": "view-in-github",
        "colab_type": "text"
      },
      "source": [
        "<a href=\"https://colab.research.google.com/github/emashu001/Python_Quest/blob/master/%EC%82%AC%EA%B0%81%ED%98%95_%EB%84%93%EC%9D%B4_%EA%B5%AC%ED%95%98%EA%B8%B0.ipynb\" target=\"_parent\"><img src=\"https://colab.research.google.com/assets/colab-badge.svg\" alt=\"Open In Colab\"/></a>"
      ]
    },
    {
      "cell_type": "code",
      "execution_count": 6,
      "metadata": {
        "colab": {
          "base_uri": "https://localhost:8080/"
        },
        "id": "OXwzBWjaT-CT",
        "outputId": "fe9453a9-74dd-447d-a28e-04548fe7c596"
      },
      "outputs": [
        {
          "output_type": "stream",
          "name": "stdout",
          "text": [
            "넓이를 구하고 싶은 사각형의 숫자를 써주세요.\n",
            " 1.직사각형 2.평행사변형 3.사다리꼴 \n",
            " >>>1\n",
            "직사각형 함수는 rect()입니다.\n"
          ]
        }
      ],
      "source": [
        "class Square:\n",
        "    def __init__(self):\n",
        "        square = int(input('넓이를 구하고 싶은 사각형의 숫자를 써주세요.\\n 1.직사각형 2.평행사변형 3.사다리꼴 \\n >>>'))\n",
        "\n",
        "        if square == 1:\n",
        "            print('직사각형 함수는 rect()입니다.')\n",
        "\n",
        "        elif square == 2:\n",
        "            print('평행사변형 함수는 par()입니다.')\n",
        "        \n",
        "        elif square == 3:\n",
        "            print('사다리꼴 함수는 trape()입니다.')\n",
        "        \n",
        "        else:\n",
        "            print('1, 2, 3 중에서 다시 입력해주세요')\n",
        "\n",
        "    def rect(self):\n",
        "        width, vertical = map(int, input('가로, 세로를 입력하세요. 예시 : 가로,세로\\n >>>').split(','))\n",
        "        area = width * vertical\n",
        "        result = '직사각형의 넓이는 : ' + str(area)\n",
        "        return result\n",
        "\n",
        "    def par(self):\n",
        "        width, vertical = map(int, input('밑변, 높이를 입력하세요.\\n >>>').split(','))\n",
        "        area = width * vertical\n",
        "        result = '평행사변형의 넓이는 : ' + str(area)\n",
        "        return result\n",
        "\n",
        "    def trape(self):\n",
        "        width1, width2, vertical = map(int, input('밑변, 윗변, 높이를 입력하세요.\\n >>>').split(','))\n",
        "        area = (width1 + width2) * vertical * 0.5\n",
        "        result = '사다리꼴의 넓이는 : ' + str(area)\n",
        "        return result\n",
        "\n",
        "a = Square()"
      ]
    },
    {
      "cell_type": "code",
      "source": [
        "a.rect()"
      ],
      "metadata": {
        "colab": {
          "base_uri": "https://localhost:8080/",
          "height": 73
        },
        "id": "OrJm73aCUjQF",
        "outputId": "94b7b746-3528-4b43-ba1c-890703ad8253"
      },
      "execution_count": 4,
      "outputs": [
        {
          "name": "stdout",
          "output_type": "stream",
          "text": [
            "가로, 세로를 입력하세요. 예시 : 가로,세로\n",
            " >>>2,9\n"
          ]
        },
        {
          "output_type": "execute_result",
          "data": {
            "text/plain": [
              "'직사각형의 넓이는 : 18'"
            ],
            "application/vnd.google.colaboratory.intrinsic+json": {
              "type": "string"
            }
          },
          "metadata": {},
          "execution_count": 4
        }
      ]
    },
    {
      "cell_type": "code",
      "source": [
        "a.par()"
      ],
      "metadata": {
        "colab": {
          "base_uri": "https://localhost:8080/",
          "height": 73
        },
        "id": "PD_564K9UWuG",
        "outputId": "afdf7b78-fefd-4383-976f-36c01049f888"
      },
      "execution_count": 2,
      "outputs": [
        {
          "name": "stdout",
          "output_type": "stream",
          "text": [
            "밑변, 높이를 입력하세요.\n",
            " >>>5,6\n"
          ]
        },
        {
          "output_type": "execute_result",
          "data": {
            "text/plain": [
              "'평행사변형의 넓이는 : 30'"
            ],
            "application/vnd.google.colaboratory.intrinsic+json": {
              "type": "string"
            }
          },
          "metadata": {},
          "execution_count": 2
        }
      ]
    },
    {
      "cell_type": "code",
      "source": [
        "a.trape()"
      ],
      "metadata": {
        "colab": {
          "base_uri": "https://localhost:8080/",
          "height": 73
        },
        "id": "QGFpDyiQUYek",
        "outputId": "0e0cb75a-a291-4b18-8a19-08a78dacbeef"
      },
      "execution_count": 3,
      "outputs": [
        {
          "name": "stdout",
          "output_type": "stream",
          "text": [
            "밑변, 윗변, 높이를 입력하세요.\n",
            " >>>4,5,6\n"
          ]
        },
        {
          "output_type": "execute_result",
          "data": {
            "text/plain": [
              "'사다리꼴의 넓이는 : 27.0'"
            ],
            "application/vnd.google.colaboratory.intrinsic+json": {
              "type": "string"
            }
          },
          "metadata": {},
          "execution_count": 3
        }
      ]
    },
    {
      "cell_type": "code",
      "source": [],
      "metadata": {
        "id": "Tfp0aUnzUeM8"
      },
      "execution_count": null,
      "outputs": []
    }
  ]
}
