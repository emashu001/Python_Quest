{
  "nbformat": 4,
  "nbformat_minor": 0,
  "metadata": {
    "colab": {
      "provenance": [],
      "authorship_tag": "ABX9TyPSzPTZO9FBxfQ5OU5Gfc6x",
      "include_colab_link": true
    },
    "kernelspec": {
      "name": "python3",
      "display_name": "Python 3"
    },
    "language_info": {
      "name": "python"
    }
  },
  "cells": [
    {
      "cell_type": "markdown",
      "metadata": {
        "id": "view-in-github",
        "colab_type": "text"
      },
      "source": [
        "<a href=\"https://colab.research.google.com/github/emashu001/first_repository/blob/master/Quest2.ipynb\" target=\"_parent\"><img src=\"https://colab.research.google.com/assets/colab-badge.svg\" alt=\"Open In Colab\"/></a>"
      ]
    },
    {
      "cell_type": "code",
      "source": [
        "!pip3 install ColabTurtlePlus"
      ],
      "metadata": {
        "colab": {
          "base_uri": "https://localhost:8080/"
        },
        "id": "_3j-PvlSg41A",
        "outputId": "9dc6a37b-aa6e-4c32-af5b-a344a5cfe7c5"
      },
      "execution_count": 1,
      "outputs": [
        {
          "output_type": "stream",
          "name": "stdout",
          "text": [
            "Looking in indexes: https://pypi.org/simple, https://us-python.pkg.dev/colab-wheels/public/simple/\n",
            "Collecting ColabTurtlePlus\n",
            "  Downloading ColabTurtlePlus-2.0.1-py3-none-any.whl (31 kB)\n",
            "Installing collected packages: ColabTurtlePlus\n",
            "Successfully installed ColabTurtlePlus-2.0.1\n"
          ]
        }
      ]
    },
    {
      "cell_type": "code",
      "execution_count": 3,
      "metadata": {
        "id": "RxduRFELgW3P"
      },
      "outputs": [],
      "source": [
        "# from ColabTurtlePlus.Turtle import *\n",
        "\n",
        "maze = [\n",
        "    [0, 1, 0, 0, 0],\n",
        "    [0, 0, 0, 1, 0],\n",
        "    [0, 1, 1, 0, 0],\n",
        "    [0, 0, 1, 1, 0],\n",
        "    [0, 0, 0, 0, 0]\n",
        "]\n",
        "\n",
        "\n",
        "# print(\"turtle start point :\", maze[x][y])\n",
        "\n",
        "def findroad(x, y):\n",
        "  if maze[x][y] == 0:\n",
        "    print(\"길이 yes!\")\n",
        "    # x += 1\n",
        "    maze[x][y] = 2\n",
        "    print (\"tutle now point :\",  (x, y), maze[x][y])\n",
        "\n",
        "  elif maze[x][y] == 1:\n",
        "    print(\"길이 no, 좌표를 다시 적어 주세요!\")\n",
        "    print (\"tutle now point :\",  (x, y), maze[x][y])"
      ]
    },
    {
      "cell_type": "code",
      "source": [
        "for x in range(len(maze)):\n",
        "  for y in range(len(maze)):\n",
        "    findroad(x,y)\n",
        "\n",
        "maze"
      ],
      "metadata": {
        "colab": {
          "base_uri": "https://localhost:8080/"
        },
        "id": "1V1Ddar5gxxx",
        "outputId": "667f55a8-7794-4ae8-8a41-53b4cfaa00da"
      },
      "execution_count": 4,
      "outputs": [
        {
          "output_type": "stream",
          "name": "stdout",
          "text": [
            "길이 yes!\n",
            "tutle now point : (0, 0) 2\n",
            "길이 no, 좌표를 다시 적어 주세요!\n",
            "tutle now point : (0, 1) 1\n",
            "길이 yes!\n",
            "tutle now point : (0, 2) 2\n",
            "길이 yes!\n",
            "tutle now point : (0, 3) 2\n",
            "길이 yes!\n",
            "tutle now point : (0, 4) 2\n",
            "길이 yes!\n",
            "tutle now point : (1, 0) 2\n",
            "길이 yes!\n",
            "tutle now point : (1, 1) 2\n",
            "길이 yes!\n",
            "tutle now point : (1, 2) 2\n",
            "길이 no, 좌표를 다시 적어 주세요!\n",
            "tutle now point : (1, 3) 1\n",
            "길이 yes!\n",
            "tutle now point : (1, 4) 2\n",
            "길이 yes!\n",
            "tutle now point : (2, 0) 2\n",
            "길이 no, 좌표를 다시 적어 주세요!\n",
            "tutle now point : (2, 1) 1\n",
            "길이 no, 좌표를 다시 적어 주세요!\n",
            "tutle now point : (2, 2) 1\n",
            "길이 yes!\n",
            "tutle now point : (2, 3) 2\n",
            "길이 yes!\n",
            "tutle now point : (2, 4) 2\n",
            "길이 yes!\n",
            "tutle now point : (3, 0) 2\n",
            "길이 yes!\n",
            "tutle now point : (3, 1) 2\n",
            "길이 no, 좌표를 다시 적어 주세요!\n",
            "tutle now point : (3, 2) 1\n",
            "길이 no, 좌표를 다시 적어 주세요!\n",
            "tutle now point : (3, 3) 1\n",
            "길이 yes!\n",
            "tutle now point : (3, 4) 2\n",
            "길이 yes!\n",
            "tutle now point : (4, 0) 2\n",
            "길이 yes!\n",
            "tutle now point : (4, 1) 2\n",
            "길이 yes!\n",
            "tutle now point : (4, 2) 2\n",
            "길이 yes!\n",
            "tutle now point : (4, 3) 2\n",
            "길이 yes!\n",
            "tutle now point : (4, 4) 2\n"
          ]
        },
        {
          "output_type": "execute_result",
          "data": {
            "text/plain": [
              "[[2, 1, 2, 2, 2],\n",
              " [2, 2, 2, 1, 2],\n",
              " [2, 1, 1, 2, 2],\n",
              " [2, 2, 1, 1, 2],\n",
              " [2, 2, 2, 2, 2]]"
            ]
          },
          "metadata": {},
          "execution_count": 4
        }
      ]
    }
  ]
}
