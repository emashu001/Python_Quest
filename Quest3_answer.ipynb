{
  "nbformat": 4,
  "nbformat_minor": 0,
  "metadata": {
    "colab": {
      "provenance": [],
      "authorship_tag": "ABX9TyMFo852xT5ksW4mJJhbQ2uI",
      "include_colab_link": true
    },
    "kernelspec": {
      "name": "python3",
      "display_name": "Python 3"
    },
    "language_info": {
      "name": "python"
    }
  },
  "cells": [
    {
      "cell_type": "markdown",
      "metadata": {
        "id": "view-in-github",
        "colab_type": "text"
      },
      "source": [
        "<a href=\"https://colab.research.google.com/github/emashu001/first_repository/blob/master/Quest3_answer.ipynb\" target=\"_parent\"><img src=\"https://colab.research.google.com/assets/colab-badge.svg\" alt=\"Open In Colab\"/></a>"
      ]
    },
    {
      "cell_type": "code",
      "source": [
        "import string\n",
        "from collections import Counter"
      ],
      "metadata": {
        "id": "iT7G_4WKxlzM"
      },
      "execution_count": 1,
      "outputs": []
    },
    {
      "cell_type": "code",
      "execution_count": null,
      "metadata": {
        "id": "TOCeE-EkwTi0"
      },
      "outputs": [],
      "source": [
        "with open(\"06TheAvengers.txt\", \"r\") as file:\n",
        "  text = file.readlines()\n",
        "\n",
        "text"
      ]
    },
    {
      "cell_type": "code",
      "source": [
        "string.punctuation"
      ],
      "metadata": {
        "id": "niLxlcVNxbYk"
      },
      "execution_count": null,
      "outputs": []
    },
    {
      "cell_type": "code",
      "source": [
        "len(string.punctuation)"
      ],
      "metadata": {
        "id": "EcZEtONGxhvh"
      },
      "execution_count": null,
      "outputs": []
    },
    {
      "cell_type": "code",
      "source": [
        "bigram_list = []\n",
        "switch =''\n",
        "for i in range(len(string.punctuation)):\n",
        "  switch = switch+ ' '\n",
        "\n",
        "table = str.maketrans(string.punctuation, switch)\n",
        "# table\n",
        "\n",
        "for sen in text:\n",
        "  sen = sen.replace('\\n', ' ')\n",
        "  sen = sen.lower()\n",
        "  sen = sen.translate(table)\n",
        "  splited_sen = sen.split()\n",
        "  bigram_list += list(zip(splited_sen, splited_sen[1:]))\n",
        "\n",
        "# bigram_list\n",
        "\n",
        "bigram_dic = {}\n",
        "\n",
        "for i, bigram in enumerate(bigram_list):\n",
        "  bigram_dic[i] = bigram\n",
        "\n",
        "most_common = Counter(bigram_dic.values()).most_common()\n",
        "most_common"
      ],
      "metadata": {
        "id": "oi9_eBcIxyUT"
      },
      "execution_count": null,
      "outputs": []
    },
    {
      "cell_type": "code",
      "source": [],
      "metadata": {
        "id": "D_neaFlwyR56"
      },
      "execution_count": null,
      "outputs": []
    }
  ]
}